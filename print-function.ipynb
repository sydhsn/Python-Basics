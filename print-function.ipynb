{
 "cells": [
  {
   "cell_type": "code",
   "execution_count": 1,
   "id": "dbfa74e8-1a68-49ed-9e2f-13a498dc2c98",
   "metadata": {},
   "outputs": [
    {
     "name": "stdout",
     "output_type": "stream",
     "text": [
      "saiyad\n"
     ]
    }
   ],
   "source": [
    "print('saiyad')"
   ]
  },
  {
   "cell_type": "code",
   "execution_count": 3,
   "id": "e53c5e48-c6d7-465d-8a0d-7fd8791ffff4",
   "metadata": {},
   "outputs": [
    {
     "name": "stdout",
     "output_type": "stream",
     "text": [
      "False True 10 0.5 Saiyad Husain\n"
     ]
    }
   ],
   "source": [
    "print(False, True, 10, 0.5,'Saiyad','Husain')"
   ]
  },
  {
   "cell_type": "code",
   "execution_count": 4,
   "id": "96a17a94-1691-4846-8511-14557d1d6b82",
   "metadata": {},
   "outputs": [
    {
     "name": "stdout",
     "output_type": "stream",
     "text": [
      "A B\n"
     ]
    }
   ],
   "source": [
    "print(\"A\",\"B\")\n"
   ]
  },
  {
   "cell_type": "code",
   "execution_count": 5,
   "id": "ed46eca4-4054-4602-a662-ccf1c337bdd4",
   "metadata": {},
   "outputs": [
    {
     "name": "stdout",
     "output_type": "stream",
     "text": [
      "India Pakistan China Nepal Bangaladesh\n"
     ]
    }
   ],
   "source": [
    "print('India','Pakistan','China','Nepal','Bangaladesh');\n"
   ]
  },
  {
   "cell_type": "code",
   "execution_count": 6,
   "id": "f8a9f646-aa8a-4a81-a2f9-3181b1b33891",
   "metadata": {},
   "outputs": [
    {
     "name": "stdout",
     "output_type": "stream",
     "text": [
      "India,Pakistan,China,Nepal,Bangaladesh\n"
     ]
    }
   ],
   "source": [
    "print('India','Pakistan','China','Nepal','Bangaladesh', sep=',');"
   ]
  },
  {
   "cell_type": "code",
   "execution_count": 7,
   "id": "8190f403-e509-4972-9116-0d073513f59a",
   "metadata": {},
   "outputs": [
    {
     "name": "stdout",
     "output_type": "stream",
     "text": [
      "India-Pakistan-China-Nepal-Bangaladesh\n"
     ]
    }
   ],
   "source": [
    "print('India','Pakistan','China','Nepal','Bangaladesh', sep='-');"
   ]
  },
  {
   "cell_type": "code",
   "execution_count": 8,
   "id": "6a1617e5-7daa-4393-9284-ea201e18ff74",
   "metadata": {},
   "outputs": [
    {
     "name": "stdout",
     "output_type": "stream",
     "text": [
      "India/Pakistan/China/Nepal/Bangaladesh\n"
     ]
    }
   ],
   "source": [
    "print('India','Pakistan','China','Nepal','Bangaladesh', sep='/');"
   ]
  },
  {
   "cell_type": "code",
   "execution_count": 13,
   "id": "7abb020f-174c-4129-9932-7cd8ddf0b6ae",
   "metadata": {},
   "outputs": [
    {
     "name": "stdout",
     "output_type": "stream",
     "text": [
      "Hello World\n"
     ]
    }
   ],
   "source": [
    "print(\"Hello\",end=' ')\n",
    "print('World')"
   ]
  },
  {
   "cell_type": "code",
   "execution_count": null,
   "id": "59516811-599d-4293-a1d6-9675a4ba62a9",
   "metadata": {},
   "outputs": [],
   "source": []
  }
 ],
 "metadata": {
  "kernelspec": {
   "display_name": "Python 3 (ipykernel)",
   "language": "python",
   "name": "python3"
  },
  "language_info": {
   "codemirror_mode": {
    "name": "ipython",
    "version": 3
   },
   "file_extension": ".py",
   "mimetype": "text/x-python",
   "name": "python",
   "nbconvert_exporter": "python",
   "pygments_lexer": "ipython3",
   "version": "3.13.1"
  }
 },
 "nbformat": 4,
 "nbformat_minor": 5
}
