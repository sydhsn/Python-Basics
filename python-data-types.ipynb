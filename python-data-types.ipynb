{
 "cells": [
  {
   "cell_type": "markdown",
   "id": "a93b9ad7-146c-49c5-a0db-4fcd87eca912",
   "metadata": {},
   "source": [
    "# Python Supports 3 Categories of Data Types \n",
    "This notebook explores data types of python as follows.\n",
    "* **Basics Types** :( integer, float, complex, boolean and string)\n",
    "* **Container Types** : (List , Tuple, Sets and Dictionary)\n",
    "* **User Defined Types** : Class"
   ]
  },
  {
   "cell_type": "markdown",
   "id": "6eb8b5e4-df33-4ac7-9232-2378703ef69f",
   "metadata": {},
   "source": [
    "1. **Basics Types** :( integer, float, complex, boolean and string)"
   ]
  },
  {
   "cell_type": "code",
   "execution_count": 19,
   "id": "9c18e08a-c836-4c83-b62e-26e9513df92f",
   "metadata": {},
   "outputs": [
    {
     "name": "stdout",
     "output_type": "stream",
     "text": [
      "4\n",
      "1e+308\n"
     ]
    },
    {
     "data": {
      "text/plain": [
       "' The formula 1e308 stands for 110308 or one followed by three hundred and eight zeroes. '"
      ]
     },
     "execution_count": 19,
     "metadata": {},
     "output_type": "execute_result"
    }
   ],
   "source": [
    "## integer \n",
    "print(4)\n",
    "print(1e308) \n",
    "\n",
    "''' The formula 1e308 stands for 110308 or one followed by three hundred and eight zeroes. '''"
   ]
  },
  {
   "cell_type": "code",
   "execution_count": 20,
   "id": "bab420a5-97b2-4dca-b07c-a94d6d434bf5",
   "metadata": {},
   "outputs": [
    {
     "name": "stdout",
     "output_type": "stream",
     "text": [
      "False\n",
      "True\n"
     ]
    }
   ],
   "source": [
    "## Boolen \n",
    "print(False)\n",
    "print(True)\n"
   ]
  },
  {
   "cell_type": "code",
   "execution_count": 21,
   "id": "ce6649b0-3fab-4cfd-93ae-8c024593ecb1",
   "metadata": {},
   "outputs": [
    {
     "name": "stdout",
     "output_type": "stream",
     "text": [
      "(4+5j)\n"
     ]
    }
   ],
   "source": [
    "## complex To print a complex number \"4+5j\" in Python, simply use the following code: print(4+5j). \n",
    "## Explanation:\n",
    "''' j represents the imaginary unit: In Python, the letter \"j\" (or \"J\") is used to denote the imaginary part of a complex number. \n",
    "Syntax: real_part + imaginary_part * j. '''\n",
    "##Example:\n",
    "print(4+5j)"
   ]
  },
  {
   "cell_type": "code",
   "execution_count": 22,
   "id": "919bb6a2-034e-44e6-986b-a42aeb471279",
   "metadata": {},
   "outputs": [
    {
     "name": "stdout",
     "output_type": "stream",
     "text": [
      "Saiya\n",
      "Saiyad\n"
     ]
    }
   ],
   "source": [
    "## String types\n",
    "print(\"Saiya\") ## with 1 double quotes and also with theree \"\"\" doouble \n",
    "print(\"\"\"Saiyad\"\"\")"
   ]
  },
  {
   "cell_type": "markdown",
   "id": "63b846ce-588d-4c24-acc3-3342501abf8e",
   "metadata": {},
   "source": [
    "2. **Container Types** :(List , Tuple, Sets and Dictionary)"
   ]
  },
  {
   "cell_type": "code",
   "execution_count": 23,
   "id": "b3d49fa1-b3e8-441e-8fa1-2d71791d4a79",
   "metadata": {},
   "outputs": [
    {
     "name": "stdout",
     "output_type": "stream",
     "text": [
      "[1, 2, 3, 4]\n"
     ]
    }
   ],
   "source": [
    "## List \n",
    "print([1,2,3,4])"
   ]
  },
  {
   "cell_type": "code",
   "execution_count": 24,
   "id": "ebf8f312-fde2-4adb-a6ea-6c10b08e79f6",
   "metadata": {},
   "outputs": [
    {
     "name": "stdout",
     "output_type": "stream",
     "text": [
      "(1, 2, 3, 4)\n"
     ]
    }
   ],
   "source": [
    "## tuple \n",
    "print((1,2,3,4))"
   ]
  },
  {
   "cell_type": "code",
   "execution_count": 26,
   "id": "a61b703a-ecf2-4d21-aa72-75c034bb7239",
   "metadata": {},
   "outputs": [
    {
     "name": "stdout",
     "output_type": "stream",
     "text": [
      "{1, 2, 3, 4}\n"
     ]
    }
   ],
   "source": [
    "## sets \n",
    "print({1,2,3,4})"
   ]
  },
  {
   "cell_type": "code",
   "execution_count": 29,
   "id": "f123f0cd-ee9c-4a16-b40f-5ed00f4021d3",
   "metadata": {},
   "outputs": [
    {
     "name": "stdout",
     "output_type": "stream",
     "text": [
      "{'Name': 'Saiyad', 'Age': 39, 'Sex': 'Male'}\n"
     ]
    }
   ],
   "source": [
    "## Dictionary \n",
    "print({\"Name\":\"Saiyad\",\"Age\":39,\"Sex\":\"Male\"})"
   ]
  },
  {
   "cell_type": "code",
   "execution_count": null,
   "id": "dcec9c96-ffde-4562-8296-be8013e9e87c",
   "metadata": {},
   "outputs": [],
   "source": []
  }
 ],
 "metadata": {
  "kernelspec": {
   "display_name": "Python 3 (ipykernel)",
   "language": "python",
   "name": "python3"
  },
  "language_info": {
   "codemirror_mode": {
    "name": "ipython",
    "version": 3
   },
   "file_extension": ".py",
   "mimetype": "text/x-python",
   "name": "python",
   "nbconvert_exporter": "python",
   "pygments_lexer": "ipython3",
   "version": "3.13.1"
  }
 },
 "nbformat": 4,
 "nbformat_minor": 5
}
