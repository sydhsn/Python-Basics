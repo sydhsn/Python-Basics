{
 "cells": [
  {
   "cell_type": "markdown",
   "id": "a0b6debe-b066-4a9d-9584-09b9f8eef7e6",
   "metadata": {},
   "source": [
    "## Type Conversion Types \n",
    "### There 2 types of type conversion \n",
    "\n",
    "1. **Inplicit**: inplicite( When python autometiclly does this without given user instruction )\n",
    "2. **Explicit**: As developer you have to tell that give methis type of data types from this data set\n",
    "\n",
    "### Note: type conversion will not change original value"
   ]
  },
  {
   "cell_type": "code",
   "execution_count": 31,
   "id": "a681b04d-a4a8-4468-92f4-d4622999fc5b",
   "metadata": {},
   "outputs": [
    {
     "name": "stdout",
     "output_type": "stream",
     "text": [
      "9.5\n",
      "(10.5+1j)\n"
     ]
    }
   ],
   "source": [
    "## inplicite( When python autometiclly does this without given user instruction )\n",
    "## example of inplicit \n",
    "\n",
    "print(4 + 5.5)\n",
    "print(5+5.5+1j)  ### long datatype\n",
    "\n",
    "\n",
    "## out put will 9.5 this conversion of float and integer will be autometiclly \n"
   ]
  },
  {
   "cell_type": "code",
   "execution_count": 32,
   "id": "ff69ee57-193c-4750-8a21-e8af384e7bea",
   "metadata": {},
   "outputs": [],
   "source": [
    "## explicite ( As a developer we have tell what type of data types we want ) \n",
    "\n",
    "## Int() which will return and string type number to number \n",
    "fisrt_number = '45'\n",
    "fisrt_number = int(fisrt_number)"
   ]
  },
  {
   "cell_type": "code",
   "execution_count": 33,
   "id": "b0187873-d23c-4359-bf93-0f80f5e3987a",
   "metadata": {},
   "outputs": [
    {
     "data": {
      "text/plain": [
       "3.0"
      ]
     },
     "execution_count": 33,
     "metadata": {},
     "output_type": "execute_result"
    }
   ],
   "source": [
    "## float\n",
    "float(3)"
   ]
  },
  {
   "cell_type": "code",
   "execution_count": 34,
   "id": "03f79de9-6cd8-4485-8884-5ee362de9e49",
   "metadata": {},
   "outputs": [
    {
     "data": {
      "text/plain": [
       "'4'"
      ]
     },
     "execution_count": 34,
     "metadata": {},
     "output_type": "execute_result"
    }
   ],
   "source": [
    "## string \n",
    "str(4)"
   ]
  },
  {
   "cell_type": "code",
   "execution_count": 35,
   "id": "eb86dff7-2261-462f-8d29-d00d11a2eb33",
   "metadata": {},
   "outputs": [
    {
     "data": {
      "text/plain": [
       "True"
      ]
     },
     "execution_count": 35,
     "metadata": {},
     "output_type": "execute_result"
    }
   ],
   "source": [
    "## boolean\n",
    "bool(1)\n"
   ]
  },
  {
   "cell_type": "code",
   "execution_count": 36,
   "id": "5b971d5c-c150-4c3c-87cf-0153ec91bb52",
   "metadata": {},
   "outputs": [
    {
     "data": {
      "text/plain": [
       "False"
      ]
     },
     "execution_count": 36,
     "metadata": {},
     "output_type": "execute_result"
    }
   ],
   "source": [
    "bool(0)"
   ]
  },
  {
   "cell_type": "code",
   "execution_count": 37,
   "id": "410a895b-e5c1-4ab6-8124-d4755f7e7dcb",
   "metadata": {},
   "outputs": [
    {
     "data": {
      "text/plain": [
       "(5+0j)"
      ]
     },
     "execution_count": 37,
     "metadata": {},
     "output_type": "execute_result"
    }
   ],
   "source": [
    "## complex \n",
    "complex(5)\n"
   ]
  },
  {
   "cell_type": "code",
   "execution_count": 1,
   "id": "e901b2e6-bc7d-4f65-a705-73dec3670baa",
   "metadata": {},
   "outputs": [
    {
     "data": {
      "text/plain": [
       "['S', 'a', 'i', 'y', 'a', 'd']"
      ]
     },
     "execution_count": 1,
     "metadata": {},
     "output_type": "execute_result"
    }
   ],
   "source": [
    "## list \n",
    "\n",
    "list(\"Saiyad\")"
   ]
  },
  {
   "cell_type": "code",
   "execution_count": 1,
   "id": "315f2d56-12aa-4b1b-8e64-8e435f3ef6ff",
   "metadata": {},
   "outputs": [
    {
     "name": "stdin",
     "output_type": "stream",
     "text": [
      "Enter your first number : 33\n",
      "Enter your second number : 44\n"
     ]
    },
    {
     "name": "stdout",
     "output_type": "stream",
     "text": [
      "77\n"
     ]
    },
    {
     "name": "stdin",
     "output_type": "stream",
     "text": [
      "Enter your first number : 33\n",
      "Enter your second number : 44\n"
     ]
    },
    {
     "name": "stdout",
     "output_type": "stream",
     "text": [
      "77\n"
     ]
    }
   ],
   "source": [
    "## first way\n",
    "first_number = input('Enter your first number :')\n",
    "second_number = input('Enter your second number :')\n",
    "sum_of_num = int(first_number) + int(second_number)\n",
    "print(sum_of_num)\n",
    "\n",
    "## seond way \n",
    "first_number = int(input('Enter your first number :'))\n",
    "second_number = int(input('Enter your second number :'))\n",
    "sum_of_num = first_number + second_number\n",
    "print(sum_of_num)"
   ]
  },
  {
   "cell_type": "code",
   "execution_count": null,
   "id": "7b0b4f08-4c2b-46ec-a5a5-897a99ca1756",
   "metadata": {},
   "outputs": [],
   "source": []
  }
 ],
 "metadata": {
  "kernelspec": {
   "display_name": "Python 3 (ipykernel)",
   "language": "python",
   "name": "python3"
  },
  "language_info": {
   "codemirror_mode": {
    "name": "ipython",
    "version": 3
   },
   "file_extension": ".py",
   "mimetype": "text/x-python",
   "name": "python",
   "nbconvert_exporter": "python",
   "pygments_lexer": "ipython3",
   "version": "3.13.1"
  }
 },
 "nbformat": 4,
 "nbformat_minor": 5
}
