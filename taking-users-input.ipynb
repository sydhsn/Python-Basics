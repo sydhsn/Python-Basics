{
 "cells": [
  {
   "cell_type": "markdown",
   "id": "0e395b77-2a0f-4a94-8799-d6375678ee3c",
   "metadata": {},
   "source": [
    "### Taking user inputs and show"
   ]
  },
  {
   "cell_type": "code",
   "execution_count": 3,
   "id": "87018c36-ef22-42dd-b2c8-bf0bc4c20d4c",
   "metadata": {},
   "outputs": [
    {
     "name": "stdin",
     "output_type": "stream",
     "text": [
      "Enter first number:  56\n"
     ]
    },
    {
     "data": {
      "text/plain": [
       "'56'"
      ]
     },
     "execution_count": 3,
     "metadata": {},
     "output_type": "execute_result"
    }
   ],
   "source": [
    "input('Enter first number: ')\n"
   ]
  },
  {
   "cell_type": "code",
   "execution_count": 6,
   "id": "56fe9910-ce66-4ee3-ba95-45d575bff48a",
   "metadata": {},
   "outputs": [
    {
     "name": "stdin",
     "output_type": "stream",
     "text": [
      "first number: 45\n"
     ]
    }
   ],
   "source": [
    "f_number = input('first number:')"
   ]
  },
  {
   "cell_type": "code",
   "execution_count": 7,
   "id": "87c3e29a-54d3-47ca-9d6d-304c3e884542",
   "metadata": {},
   "outputs": [
    {
     "name": "stdin",
     "output_type": "stream",
     "text": [
      "Enter Second Number:  45\n"
     ]
    }
   ],
   "source": [
    "s_second =input('Enter Second Number: ')\n"
   ]
  },
  {
   "cell_type": "code",
   "execution_count": 8,
   "id": "ff8c4425-7374-4024-a3c7-45a448a3374e",
   "metadata": {},
   "outputs": [
    {
     "name": "stdout",
     "output_type": "stream",
     "text": [
      "45 45\n"
     ]
    }
   ],
   "source": [
    "print(f_number, s_second)\n"
   ]
  },
  {
   "cell_type": "code",
   "execution_count": 17,
   "id": "88e8d51b-8e04-410e-ae15-8b3fea9f9938",
   "metadata": {},
   "outputs": [
    {
     "data": {
      "text/plain": [
       "str"
      ]
     },
     "execution_count": 17,
     "metadata": {},
     "output_type": "execute_result"
    }
   ],
   "source": [
    "type(f_number)\n",
    "type(s_second)"
   ]
  },
  {
   "cell_type": "code",
   "execution_count": null,
   "id": "01bf859f-1d1e-4152-86da-028d77234d2f",
   "metadata": {},
   "outputs": [],
   "source": []
  }
 ],
 "metadata": {
  "kernelspec": {
   "display_name": "Python 3 (ipykernel)",
   "language": "python",
   "name": "python3"
  },
  "language_info": {
   "codemirror_mode": {
    "name": "ipython",
    "version": 3
   },
   "file_extension": ".py",
   "mimetype": "text/x-python",
   "name": "python",
   "nbconvert_exporter": "python",
   "pygments_lexer": "ipython3",
   "version": "3.13.1"
  }
 },
 "nbformat": 4,
 "nbformat_minor": 5
}
