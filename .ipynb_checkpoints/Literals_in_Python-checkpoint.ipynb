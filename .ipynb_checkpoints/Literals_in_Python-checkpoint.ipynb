{
 "cells": [
  {
   "cell_type": "markdown",
   "id": "63966e1b-970b-407a-a2af-2b12861fe6fc",
   "metadata": {},
   "source": [
    "## Literals in Python \n",
    "#### =====================\n",
    "\n",
    "### Literals is a raw data given in a variable, In Python There are various types of literals they are as follows:\n",
    "\n",
    "1. **Number Literals**\n",
    "2. **String Literals**\n",
    "3. **Boolean Literals**\n",
    "4. **Special Literals**\n",
    "\n",
    "### 1: Number Literals: "
   ]
  },
  {
   "cell_type": "code",
   "execution_count": 3,
   "id": "a57497fc-8659-4acb-9ca9-76f9a9ea2b16",
   "metadata": {},
   "outputs": [
    {
     "name": "stdout",
     "output_type": "stream",
     "text": [
      "10 100 200 300\n",
      "10.5 150.0 0.0015\n",
      "3.14j 3.14 0.0\n"
     ]
    }
   ],
   "source": [
    "\n",
    "a = 0b1010 #Binary Literals\n",
    "b = 100 #Decimal Literal\n",
    "c = 0o310 #Octal Literal \n",
    "d = 0x12c #hexadecimal literal \n",
    "\n",
    "# float literal \n",
    "float_1 = 10.5\n",
    "float_2 = 1.5e2\n",
    "float_3 = 1.5e-3\n",
    "\n",
    "#complex literal \n",
    "x= 3.14j\n",
    "\n",
    "print(a,b,c,d)\n",
    "print(float_1,float_2,float_3)\n",
    "print(x, x.imag, x.real)"
   ]
  },
  {
   "cell_type": "markdown",
   "id": "724e490d-296d-49c6-b514-a22d678d3bc4",
   "metadata": {},
   "source": [
    "### 2. String Literals"
   ]
  },
  {
   "cell_type": "code",
   "execution_count": 1,
   "id": "519998b4-9415-459c-a8a7-1c422d6aec00",
   "metadata": {},
   "outputs": [
    {
     "name": "stdout",
     "output_type": "stream",
     "text": [
      "Single-quoted string: Hello, world!\n",
      "Double-quoted string: Python programming\n",
      "Triple single-quoted string:\n",
      " This is a\n",
      "multi-line string.\n",
      "Triple double-quoted string:\n",
      " This is another\n",
      "multi-line string.\n",
      "Escaped characters: This is a newline:\n",
      "And this is a tab:\tHello\n",
      "Raw string: C:\\Users\\Name\\Folder\n",
      "f-string: Hello, Alice!\n",
      "Unicode string: 😄\n",
      "Byte string: b'Hello, bytes!'\n",
      "72\n",
      "101\n",
      "108\n",
      "108\n",
      "111\n",
      "44\n",
      "32\n",
      "98\n",
      "121\n",
      "116\n",
      "101\n",
      "115\n",
      "33\n"
     ]
    }
   ],
   "source": [
    "# Single quoted string\n",
    "string_1 = 'Hello, world!'\n",
    "\n",
    "# Double quoted string\n",
    "string_2 = \"Python programming\"\n",
    "\n",
    "# Triple single-quoted string (multiline)\n",
    "string_3 = '''This is a\n",
    "multi-line string.'''\n",
    "\n",
    "# Triple double-quoted string (multiline)\n",
    "string_4 = \"\"\"This is another\n",
    "multi-line string.\"\"\"\n",
    "\n",
    "# Escaped characters\n",
    "string_5 = \"This is a newline:\\nAnd this is a tab:\\tHello\"\n",
    "\n",
    "# Raw string\n",
    "string_6 = r\"C:\\Users\\Name\\Folder\"\n",
    "\n",
    "# f-string (formatted string literal)\n",
    "name = \"Alice\"\n",
    "string_7 = f\"Hello, {name}!\"\n",
    "\n",
    "# Unicode string (Python 2.x example)\n",
    "string_8 = u\"\\U0001F604\"\n",
    "\n",
    "\n",
    "# Defining a byte string\n",
    "string_9 = b\"Hello, bytes!\"\n",
    "\n",
    "\n",
    "# Print all the strings\n",
    "print(\"Single-quoted string:\", string_1)\n",
    "print(\"Double-quoted string:\", string_2)\n",
    "print(\"Triple single-quoted string:\\n\", string_3)\n",
    "print(\"Triple double-quoted string:\\n\", string_4)\n",
    "print(\"Escaped characters:\", string_5)\n",
    "print(\"Raw string:\", string_6)\n",
    "print(\"f-string:\", string_7)\n",
    "print(\"Unicode string:\", string_8)\n",
    "print(\"Byte string:\", string_9)\n",
    "# Iterating through a byte string\n",
    "for byte in string_9:\n",
    "    print(byte)  # Prints the byte values (integers representing the ASCII values)\n"
   ]
  },
  {
   "cell_type": "markdown",
   "id": "fa39fafd-8e42-4103-aa3c-07bfae1ef3ef",
   "metadata": {},
   "source": [
    "### 3. Boolean Literals"
   ]
  },
  {
   "cell_type": "code",
   "execution_count": 3,
   "id": "ef2ba7e6-2fab-4594-8573-f5bdf21f29e3",
   "metadata": {},
   "outputs": [
    {
     "name": "stdout",
     "output_type": "stream",
     "text": [
      "a 5\n",
      "b 10\n"
     ]
    }
   ],
   "source": [
    "a = True + 4\n",
    "b = False + 10\n",
    "\n",
    "print(\"a\", a)\n",
    "print(\"b\", b)\n"
   ]
  },
  {
   "cell_type": "markdown",
   "id": "29077efa-3d81-42f7-934e-f4cf05294bb9",
   "metadata": {},
   "source": [
    "### 4. Special Literals"
   ]
  },
  {
   "cell_type": "code",
   "execution_count": 4,
   "id": "8f6d3a3a-bea8-4624-b69c-0105f9b431d3",
   "metadata": {},
   "outputs": [
    {
     "name": "stdout",
     "output_type": "stream",
     "text": [
      "None\n"
     ]
    }
   ],
   "source": [
    "a = None \n",
    "print(a)\n",
    "\n"
   ]
  },
  {
   "cell_type": "code",
   "execution_count": null,
   "id": "d06ae7ea-6c53-4afd-9df9-3b3670eb3449",
   "metadata": {},
   "outputs": [],
   "source": []
  }
 ],
 "metadata": {
  "kernelspec": {
   "display_name": "Python 3 (ipykernel)",
   "language": "python",
   "name": "python3"
  },
  "language_info": {
   "codemirror_mode": {
    "name": "ipython",
    "version": 3
   },
   "file_extension": ".py",
   "mimetype": "text/x-python",
   "name": "python",
   "nbconvert_exporter": "python",
   "pygments_lexer": "ipython3",
   "version": "3.13.1"
  }
 },
 "nbformat": 4,
 "nbformat_minor": 5
}
