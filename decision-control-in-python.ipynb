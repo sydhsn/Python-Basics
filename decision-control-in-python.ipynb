{
 "cells": [
  {
   "cell_type": "code",
   "execution_count": 1,
   "metadata": {},
   "outputs": [
    {
     "name": "stdout",
     "output_type": "stream",
     "text": [
      "You are an adult.\n",
      "Good afternoon!\n",
      "It's hot outside!\n",
      "It's a warm day, perfect for a walk!\n",
      "Welcome to the Number Guessing Game!\n",
      "I have selected a number between 1 and 100. Try to guess it.\n"
     ]
    }
   ],
   "source": [
    "# Define a variable to store the user's age\n",
    "age = 25\n",
    "\n",
    "# Check if the user is 18 or older\n",
    "if age >= 18:\n",
    "    # If the condition is true (age is 18 or older), print the message\n",
    "    print(\"You are an adult.\")\n",
    "else:\n",
    "    # If the condition is false (age is less than 18), print this message\n",
    "    print(\"You are a minor.\")\n",
    "    \n",
    "# Another example with more conditions\n",
    "# Let's define a variable for the time of the day (in 24-hour format)\n",
    "time_of_day = 14  # 14 means 2 PM\n",
    "\n",
    "# Check if it's morning, afternoon, or evening\n",
    "if time_of_day < 12:\n",
    "    # If the time is less than 12, it's morning\n",
    "    print(\"Good morning!\")\n",
    "elif time_of_day < 18:\n",
    "    # If the time is less than 18 but 12 or more, it's afternoon\n",
    "    print(\"Good afternoon!\")\n",
    "else:\n",
    "    # If the time is 18 or more, it's evening\n",
    "    print(\"Good evening!\")\n",
    "    \n",
    "# Example of a nested if-else statement\n",
    "temperature = 30  # Current temperature in Celsius\n",
    "\n",
    "# Check if it's hot or cold\n",
    "if temperature > 25:\n",
    "    print(\"It's hot outside!\")\n",
    "    # If it's hot, check if it's too hot to go outside\n",
    "    if temperature > 35:\n",
    "        print(\"It's too hot to go outside.\")\n",
    "    else:\n",
    "        print(\"It's a warm day, perfect for a walk!\")\n",
    "else:\n",
    "    print(\"It's a cool day.\")\n",
    "\n",
    "\n",
    "\n"
   ]
  }
 ],
 "metadata": {
  "kernelspec": {
   "display_name": "Python 3",
   "language": "python",
   "name": "python3"
  },
  "language_info": {
   "codemirror_mode": {
    "name": "ipython",
    "version": 3
   },
   "file_extension": ".py",
   "mimetype": "text/x-python",
   "name": "python",
   "nbconvert_exporter": "python",
   "pygments_lexer": "ipython3",
   "version": "3.13.1"
  }
 },
 "nbformat": 4,
 "nbformat_minor": 2
}
