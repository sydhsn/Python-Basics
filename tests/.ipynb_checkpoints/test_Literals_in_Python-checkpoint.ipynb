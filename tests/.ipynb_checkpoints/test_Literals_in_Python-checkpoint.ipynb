{
 "cells": [
  {
   "cell_type": "code",
   "execution_count": 1,
   "id": "dde59e44-56d2-43cb-a9c7-dc5a07d96d1f",
   "metadata": {},
   "outputs": [],
   "source": [
    "import pytest\n",
    "from unittest.mock import patch\n",
    "\n",
    "# Mocking user input to test the input function\n",
    "@patch('builtins.input', return_value='5')  # Mocking input to return '5' when called\n",
    "def test_input_function(mock_input):\n",
    "    # Test scenario where input is used\n",
    "    user_input = input(\"Enter a number: \")\n",
    "    assert user_input == '5'\n",
    "    assert mock_input.call_count == 1  # Checking that the mock was called once\n"
   ]
  },
  {
   "cell_type": "code",
   "execution_count": null,
   "id": "f335e994-9e77-49bb-8a06-720699589e1b",
   "metadata": {},
   "outputs": [],
   "source": []
  }
 ],
 "metadata": {
  "kernelspec": {
   "display_name": "Python 3 (ipykernel)",
   "language": "python",
   "name": "python3"
  },
  "language_info": {
   "codemirror_mode": {
    "name": "ipython",
    "version": 3
   },
   "file_extension": ".py",
   "mimetype": "text/x-python",
   "name": "python",
   "nbconvert_exporter": "python",
   "pygments_lexer": "ipython3",
   "version": "3.13.1"
  }
 },
 "nbformat": 4,
 "nbformat_minor": 5
}
