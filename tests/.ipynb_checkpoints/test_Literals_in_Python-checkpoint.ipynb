{
 "cells": [
  {
   "cell_type": "code",
   "execution_count": 5,
   "id": "dde59e44-56d2-43cb-a9c7-dc5a07d96d1f",
   "metadata": {},
   "outputs": [],
   "source": [
    "import pytest\n",
    "from unittest.mock import patch\n",
    "\n",
    "def test_number_input():\n",
    "    \"\"\"Tests number input with mocked input.\"\"\"\n",
    "    with patch('builtins.input', side_effect=['10', '5']):\n",
    "        first_number = patch.return_value \n",
    "        second_number = patch.return_value \n",
    "        sum_of_num = int(first_number) + int(second_number)\n",
    "        assert sum_of_num == 15\n",
    "\n",
    "def test_number_input_second_way():\n",
    "    \"\"\"Tests number input with mocked input (second way).\"\"\"\n",
    "    with patch('builtins.input', side_effect=['10', '5']) as mock_input:\n",
    "        first_number = int(mock_input())\n",
    "        second_number = int(mock_input())\n",
    "        sum_of_num = first_number + second_number\n",
    "        assert sum_of_num == 15"
   ]
  },
  {
   "cell_type": "code",
   "execution_count": null,
   "id": "f335e994-9e77-49bb-8a06-720699589e1b",
   "metadata": {},
   "outputs": [],
   "source": []
  }
 ],
 "metadata": {
  "kernelspec": {
   "display_name": "Python 3",
   "language": "python",
   "name": "python3"
  },
  "language_info": {
   "codemirror_mode": {
    "name": "ipython",
    "version": 3
   },
   "file_extension": ".py",
   "mimetype": "text/x-python",
   "name": "python",
   "nbconvert_exporter": "python",
   "pygments_lexer": "ipython3",
   "version": "3.13.1"
  }
 },
 "nbformat": 4,
 "nbformat_minor": 5
}
