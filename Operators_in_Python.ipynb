{
 "cells": [
  {
   "cell_type": "markdown",
   "id": "fd4d76b8-c348-435f-b1f2-fe711ca09fb0",
   "metadata": {},
   "source": [
    "### Operators in Python\n",
    "### ===================\n",
    "\n",
    "##### Operators are used to perform operations on variables and values. Python has the following operators:\n",
    "\n",
    "1. **Arithmetic's operators** \n",
    "2. **Comparison Operators** \n",
    "3. **Logical operators** \n",
    "4. **Bitwise operators**\n",
    "5. **Assignment operators**\n",
    "6. **Identity operators**\n",
    "7. **Membership operators**"
   ]
  },
  {
   "cell_type": "code",
   "execution_count": 25,
   "id": "579476a5-b4da-4a82-a81f-eed0955293cd",
   "metadata": {},
   "outputs": [
    {
     "name": "stdout",
     "output_type": "stream",
     "text": [
      "Arithmetic operators\n",
      "addition: 15\n",
      "Substration: 5\n",
      "Muliplication: 50\n",
      "Square: 100000\n",
      "Division: 2.0\n",
      "Modulus: 0\n",
      "Floor division: 3\n",
      "\n",
      "\n",
      "Comparison Operators\n",
      "False\n",
      "True\n",
      "False\n",
      "True\n",
      "True\n",
      "False\n",
      "\n",
      "\n",
      "Logical operators\n",
      "True\n",
      "False\n",
      "False\n",
      "True\n",
      "False\n",
      "\n",
      "\n",
      "Bitwise Operators\n",
      "2\n"
     ]
    }
   ],
   "source": [
    "x=5;\n",
    "y=10;\n",
    "## Arithmetic's operators \n",
    "print('Arithmetic operators')\n",
    "print('addition:', x + y)\n",
    "print('Substration:', y - x)\n",
    "print('Muliplication:', x*y)\n",
    "print('Square:', y**x) ## y to the power x // 10 to power 5 \n",
    "print('Division:', y/x)\n",
    "print('Modulus:', y%x) ## modules its return reminder \n",
    "print('Floor division:', y // 3) ## the floor division // rounds the result down to the nearest whole number\n",
    "\n",
    "\n",
    "## Comparison Operators\n",
    "print('\\n')\n",
    "print('Comparison Operators')\n",
    "print( x > y) ## greater then \n",
    "print(x < y) ## less then\n",
    "print(x >= y) ## greater then and equl to\n",
    "print(x <= y) ## less then and equal to \n",
    "print(x != y) ## not equal to \n",
    "print(x == y) ## equal to equal to \n",
    "\n",
    "## Logical operators\n",
    "print('\\n')\n",
    "print('Logical operators')\n",
    "x=True\n",
    "y=False\n",
    "print(x or y) ## OR operator which means any one is true then true\n",
    "x=False\n",
    "y=False\n",
    "print(x or y) \n",
    "\n",
    "print(x and y) ## and (&&) operator which means if both are true then true else false\n",
    "\n",
    "x=True\n",
    "y=True\n",
    "print(x and y) ## and (&&) operator which means if both are true then true else false \n",
    "print(not x) ## always returns oposite value \n",
    "\n",
    "\n",
    "## Bitwise Operators\n",
    "print('\\n')\n",
    "print('Bitwise Operators')\n",
    "x=6\n",
    "y=3\n",
    "print(x & y) ## The & operator compares each bit and set it to 1 if both are 1, otherwise it is set to 0\n"
   ]
  },
  {
   "cell_type": "code",
   "execution_count": null,
   "id": "732bdcd4-7b13-4faf-b958-acfdf6f06bc8",
   "metadata": {},
   "outputs": [],
   "source": []
  }
 ],
 "metadata": {
  "kernelspec": {
   "display_name": "Python 3 (ipykernel)",
   "language": "python",
   "name": "python3"
  },
  "language_info": {
   "codemirror_mode": {
    "name": "ipython",
    "version": 3
   },
   "file_extension": ".py",
   "mimetype": "text/x-python",
   "name": "python",
   "nbconvert_exporter": "python",
   "pygments_lexer": "ipython3",
   "version": "3.13.1"
  }
 },
 "nbformat": 4,
 "nbformat_minor": 5
}
